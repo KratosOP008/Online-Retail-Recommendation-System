{
 "cells": [
  {
   "cell_type": "code",
   "execution_count": 1,
   "id": "a5267c81-e614-4c77-b891-9b94f025c4ab",
   "metadata": {},
   "outputs": [],
   "source": [
    "import pandas as pd\n",
    "import seaborn as sns\n",
    "import matplotlib.pyplot as plt"
   ]
  },
  {
   "cell_type": "code",
   "execution_count": 2,
   "id": "670eaa63-c1a9-4423-961d-641d1c8e429d",
   "metadata": {},
   "outputs": [],
   "source": [
    "Online_Retail = pd.read_csv('D:/Documents/All Datasets/datascienceinternshipprojects/OnlineRetail (1) (1)')"
   ]
  },
  {
   "cell_type": "code",
   "execution_count": 3,
   "id": "eeaaf525-07a2-4872-a22a-546ec553851b",
   "metadata": {},
   "outputs": [
    {
     "data": {
      "text/html": [
       "<div>\n",
       "<style scoped>\n",
       "    .dataframe tbody tr th:only-of-type {\n",
       "        vertical-align: middle;\n",
       "    }\n",
       "\n",
       "    .dataframe tbody tr th {\n",
       "        vertical-align: top;\n",
       "    }\n",
       "\n",
       "    .dataframe thead th {\n",
       "        text-align: right;\n",
       "    }\n",
       "</style>\n",
       "<table border=\"1\" class=\"dataframe\">\n",
       "  <thead>\n",
       "    <tr style=\"text-align: right;\">\n",
       "      <th></th>\n",
       "      <th>InvoiceNo</th>\n",
       "      <th>StockCode</th>\n",
       "      <th>Description</th>\n",
       "      <th>Quantity</th>\n",
       "      <th>InvoiceDate</th>\n",
       "      <th>UnitPrice</th>\n",
       "      <th>CustomerID</th>\n",
       "      <th>Country</th>\n",
       "    </tr>\n",
       "  </thead>\n",
       "  <tbody>\n",
       "    <tr>\n",
       "      <th>0</th>\n",
       "      <td>536365</td>\n",
       "      <td>85123A</td>\n",
       "      <td>WHITE HANGING HEART T-LIGHT HOLDER</td>\n",
       "      <td>6</td>\n",
       "      <td>2010-12-01 08:26:00</td>\n",
       "      <td>2.55</td>\n",
       "      <td>17850.0</td>\n",
       "      <td>United Kingdom</td>\n",
       "    </tr>\n",
       "    <tr>\n",
       "      <th>1</th>\n",
       "      <td>536365</td>\n",
       "      <td>71053</td>\n",
       "      <td>WHITE METAL LANTERN</td>\n",
       "      <td>6</td>\n",
       "      <td>2010-12-01 08:26:00</td>\n",
       "      <td>3.39</td>\n",
       "      <td>17850.0</td>\n",
       "      <td>United Kingdom</td>\n",
       "    </tr>\n",
       "    <tr>\n",
       "      <th>2</th>\n",
       "      <td>536365</td>\n",
       "      <td>84406B</td>\n",
       "      <td>CREAM CUPID HEARTS COAT HANGER</td>\n",
       "      <td>8</td>\n",
       "      <td>2010-12-01 08:26:00</td>\n",
       "      <td>2.75</td>\n",
       "      <td>17850.0</td>\n",
       "      <td>United Kingdom</td>\n",
       "    </tr>\n",
       "    <tr>\n",
       "      <th>3</th>\n",
       "      <td>536365</td>\n",
       "      <td>84029G</td>\n",
       "      <td>KNITTED UNION FLAG HOT WATER BOTTLE</td>\n",
       "      <td>6</td>\n",
       "      <td>2010-12-01 08:26:00</td>\n",
       "      <td>3.39</td>\n",
       "      <td>17850.0</td>\n",
       "      <td>United Kingdom</td>\n",
       "    </tr>\n",
       "    <tr>\n",
       "      <th>4</th>\n",
       "      <td>536365</td>\n",
       "      <td>84029E</td>\n",
       "      <td>RED WOOLLY HOTTIE WHITE HEART.</td>\n",
       "      <td>6</td>\n",
       "      <td>2010-12-01 08:26:00</td>\n",
       "      <td>3.39</td>\n",
       "      <td>17850.0</td>\n",
       "      <td>United Kingdom</td>\n",
       "    </tr>\n",
       "    <tr>\n",
       "      <th>...</th>\n",
       "      <td>...</td>\n",
       "      <td>...</td>\n",
       "      <td>...</td>\n",
       "      <td>...</td>\n",
       "      <td>...</td>\n",
       "      <td>...</td>\n",
       "      <td>...</td>\n",
       "      <td>...</td>\n",
       "    </tr>\n",
       "    <tr>\n",
       "      <th>541904</th>\n",
       "      <td>581587</td>\n",
       "      <td>22613</td>\n",
       "      <td>PACK OF 20 SPACEBOY NAPKINS</td>\n",
       "      <td>12</td>\n",
       "      <td>2011-12-09 12:50:00</td>\n",
       "      <td>0.85</td>\n",
       "      <td>12680.0</td>\n",
       "      <td>France</td>\n",
       "    </tr>\n",
       "    <tr>\n",
       "      <th>541905</th>\n",
       "      <td>581587</td>\n",
       "      <td>22899</td>\n",
       "      <td>CHILDREN'S APRON DOLLY GIRL</td>\n",
       "      <td>6</td>\n",
       "      <td>2011-12-09 12:50:00</td>\n",
       "      <td>2.10</td>\n",
       "      <td>12680.0</td>\n",
       "      <td>France</td>\n",
       "    </tr>\n",
       "    <tr>\n",
       "      <th>541906</th>\n",
       "      <td>581587</td>\n",
       "      <td>23254</td>\n",
       "      <td>CHILDRENS CUTLERY DOLLY GIRL</td>\n",
       "      <td>4</td>\n",
       "      <td>2011-12-09 12:50:00</td>\n",
       "      <td>4.15</td>\n",
       "      <td>12680.0</td>\n",
       "      <td>France</td>\n",
       "    </tr>\n",
       "    <tr>\n",
       "      <th>541907</th>\n",
       "      <td>581587</td>\n",
       "      <td>23255</td>\n",
       "      <td>CHILDRENS CUTLERY CIRCUS PARADE</td>\n",
       "      <td>4</td>\n",
       "      <td>2011-12-09 12:50:00</td>\n",
       "      <td>4.15</td>\n",
       "      <td>12680.0</td>\n",
       "      <td>France</td>\n",
       "    </tr>\n",
       "    <tr>\n",
       "      <th>541908</th>\n",
       "      <td>581587</td>\n",
       "      <td>22138</td>\n",
       "      <td>BAKING SET 9 PIECE RETROSPOT</td>\n",
       "      <td>3</td>\n",
       "      <td>2011-12-09 12:50:00</td>\n",
       "      <td>4.95</td>\n",
       "      <td>12680.0</td>\n",
       "      <td>France</td>\n",
       "    </tr>\n",
       "  </tbody>\n",
       "</table>\n",
       "<p>541909 rows × 8 columns</p>\n",
       "</div>"
      ],
      "text/plain": [
       "       InvoiceNo StockCode                          Description  Quantity  \\\n",
       "0         536365    85123A   WHITE HANGING HEART T-LIGHT HOLDER         6   \n",
       "1         536365     71053                  WHITE METAL LANTERN         6   \n",
       "2         536365    84406B       CREAM CUPID HEARTS COAT HANGER         8   \n",
       "3         536365    84029G  KNITTED UNION FLAG HOT WATER BOTTLE         6   \n",
       "4         536365    84029E       RED WOOLLY HOTTIE WHITE HEART.         6   \n",
       "...          ...       ...                                  ...       ...   \n",
       "541904    581587     22613          PACK OF 20 SPACEBOY NAPKINS        12   \n",
       "541905    581587     22899          CHILDREN'S APRON DOLLY GIRL         6   \n",
       "541906    581587     23254         CHILDRENS CUTLERY DOLLY GIRL         4   \n",
       "541907    581587     23255      CHILDRENS CUTLERY CIRCUS PARADE         4   \n",
       "541908    581587     22138         BAKING SET 9 PIECE RETROSPOT         3   \n",
       "\n",
       "                InvoiceDate  UnitPrice  CustomerID         Country  \n",
       "0       2010-12-01 08:26:00       2.55     17850.0  United Kingdom  \n",
       "1       2010-12-01 08:26:00       3.39     17850.0  United Kingdom  \n",
       "2       2010-12-01 08:26:00       2.75     17850.0  United Kingdom  \n",
       "3       2010-12-01 08:26:00       3.39     17850.0  United Kingdom  \n",
       "4       2010-12-01 08:26:00       3.39     17850.0  United Kingdom  \n",
       "...                     ...        ...         ...             ...  \n",
       "541904  2011-12-09 12:50:00       0.85     12680.0          France  \n",
       "541905  2011-12-09 12:50:00       2.10     12680.0          France  \n",
       "541906  2011-12-09 12:50:00       4.15     12680.0          France  \n",
       "541907  2011-12-09 12:50:00       4.15     12680.0          France  \n",
       "541908  2011-12-09 12:50:00       4.95     12680.0          France  \n",
       "\n",
       "[541909 rows x 8 columns]"
      ]
     },
     "execution_count": 3,
     "metadata": {},
     "output_type": "execute_result"
    }
   ],
   "source": [
    "Online_Retail"
   ]
  },
  {
   "cell_type": "code",
   "execution_count": 4,
   "id": "50cd145b-3ce6-476e-92ff-b4ff98f4c0b1",
   "metadata": {},
   "outputs": [
    {
     "data": {
      "text/html": [
       "<div>\n",
       "<style scoped>\n",
       "    .dataframe tbody tr th:only-of-type {\n",
       "        vertical-align: middle;\n",
       "    }\n",
       "\n",
       "    .dataframe tbody tr th {\n",
       "        vertical-align: top;\n",
       "    }\n",
       "\n",
       "    .dataframe thead th {\n",
       "        text-align: right;\n",
       "    }\n",
       "</style>\n",
       "<table border=\"1\" class=\"dataframe\">\n",
       "  <thead>\n",
       "    <tr style=\"text-align: right;\">\n",
       "      <th></th>\n",
       "      <th>Quantity</th>\n",
       "      <th>UnitPrice</th>\n",
       "      <th>CustomerID</th>\n",
       "    </tr>\n",
       "  </thead>\n",
       "  <tbody>\n",
       "    <tr>\n",
       "      <th>count</th>\n",
       "      <td>541909.000000</td>\n",
       "      <td>541909.000000</td>\n",
       "      <td>406829.000000</td>\n",
       "    </tr>\n",
       "    <tr>\n",
       "      <th>mean</th>\n",
       "      <td>9.552250</td>\n",
       "      <td>4.611114</td>\n",
       "      <td>15287.690570</td>\n",
       "    </tr>\n",
       "    <tr>\n",
       "      <th>std</th>\n",
       "      <td>218.081158</td>\n",
       "      <td>96.759853</td>\n",
       "      <td>1713.600303</td>\n",
       "    </tr>\n",
       "    <tr>\n",
       "      <th>min</th>\n",
       "      <td>-80995.000000</td>\n",
       "      <td>-11062.060000</td>\n",
       "      <td>12346.000000</td>\n",
       "    </tr>\n",
       "    <tr>\n",
       "      <th>25%</th>\n",
       "      <td>1.000000</td>\n",
       "      <td>1.250000</td>\n",
       "      <td>13953.000000</td>\n",
       "    </tr>\n",
       "    <tr>\n",
       "      <th>50%</th>\n",
       "      <td>3.000000</td>\n",
       "      <td>2.080000</td>\n",
       "      <td>15152.000000</td>\n",
       "    </tr>\n",
       "    <tr>\n",
       "      <th>75%</th>\n",
       "      <td>10.000000</td>\n",
       "      <td>4.130000</td>\n",
       "      <td>16791.000000</td>\n",
       "    </tr>\n",
       "    <tr>\n",
       "      <th>max</th>\n",
       "      <td>80995.000000</td>\n",
       "      <td>38970.000000</td>\n",
       "      <td>18287.000000</td>\n",
       "    </tr>\n",
       "  </tbody>\n",
       "</table>\n",
       "</div>"
      ],
      "text/plain": [
       "            Quantity      UnitPrice     CustomerID\n",
       "count  541909.000000  541909.000000  406829.000000\n",
       "mean        9.552250       4.611114   15287.690570\n",
       "std       218.081158      96.759853    1713.600303\n",
       "min    -80995.000000  -11062.060000   12346.000000\n",
       "25%         1.000000       1.250000   13953.000000\n",
       "50%         3.000000       2.080000   15152.000000\n",
       "75%        10.000000       4.130000   16791.000000\n",
       "max     80995.000000   38970.000000   18287.000000"
      ]
     },
     "execution_count": 4,
     "metadata": {},
     "output_type": "execute_result"
    }
   ],
   "source": [
    "Online_Retail.describe()"
   ]
  },
  {
   "cell_type": "code",
   "execution_count": 5,
   "id": "00e550aa-3b7f-4294-8c64-3caf116fabbb",
   "metadata": {},
   "outputs": [
    {
     "name": "stdout",
     "output_type": "stream",
     "text": [
      "<class 'pandas.core.frame.DataFrame'>\n",
      "RangeIndex: 541909 entries, 0 to 541908\n",
      "Data columns (total 8 columns):\n",
      " #   Column       Non-Null Count   Dtype  \n",
      "---  ------       --------------   -----  \n",
      " 0   InvoiceNo    541909 non-null  object \n",
      " 1   StockCode    541909 non-null  object \n",
      " 2   Description  540455 non-null  object \n",
      " 3   Quantity     541909 non-null  int64  \n",
      " 4   InvoiceDate  541909 non-null  object \n",
      " 5   UnitPrice    541909 non-null  float64\n",
      " 6   CustomerID   406829 non-null  float64\n",
      " 7   Country      541909 non-null  object \n",
      "dtypes: float64(2), int64(1), object(5)\n",
      "memory usage: 33.1+ MB\n"
     ]
    }
   ],
   "source": [
    "Online_Retail.info()"
   ]
  },
  {
   "cell_type": "code",
   "execution_count": 6,
   "id": "34fc9edb-6ce2-48a9-9ca4-d5dae8e1a9b2",
   "metadata": {},
   "outputs": [
    {
     "data": {
      "text/plain": [
       "(541909, 8)"
      ]
     },
     "execution_count": 6,
     "metadata": {},
     "output_type": "execute_result"
    }
   ],
   "source": [
    "Online_Retail.shape"
   ]
  },
  {
   "cell_type": "code",
   "execution_count": 7,
   "id": "f134c200-cea4-49d6-8843-329bcaa1db3d",
   "metadata": {},
   "outputs": [
    {
     "data": {
      "text/plain": [
       "InvoiceNo      False\n",
       "StockCode      False\n",
       "Description     True\n",
       "Quantity       False\n",
       "InvoiceDate    False\n",
       "UnitPrice      False\n",
       "CustomerID      True\n",
       "Country        False\n",
       "dtype: bool"
      ]
     },
     "execution_count": 7,
     "metadata": {},
     "output_type": "execute_result"
    }
   ],
   "source": [
    "pd.isnull(Online_Retail).any()"
   ]
  },
  {
   "cell_type": "code",
   "execution_count": 8,
   "id": "3aa2aa17-0886-4239-92e2-ccafc1762c61",
   "metadata": {},
   "outputs": [
    {
     "name": "stdout",
     "output_type": "stream",
     "text": [
      "InvoiceNo           0\n",
      "StockCode           0\n",
      "Description      1454\n",
      "Quantity            0\n",
      "InvoiceDate         0\n",
      "UnitPrice           0\n",
      "CustomerID     135080\n",
      "Country             0\n",
      "dtype: int64\n"
     ]
    }
   ],
   "source": [
    "# Find out the number of null values in each column\n",
    "null_counts = Online_Retail.isnull().sum()\n",
    "\n",
    "# Display the number of null values in each column\n",
    "print(null_counts)"
   ]
  },
  {
   "cell_type": "code",
   "execution_count": 9,
   "id": "28f800dd-3130-43eb-8805-158e14e8503c",
   "metadata": {},
   "outputs": [],
   "source": [
    "# Drop rows with missing CustomerID\n",
    "Online_Retail = Online_Retail.dropna(subset=['CustomerID'])"
   ]
  },
  {
   "cell_type": "code",
   "execution_count": 10,
   "id": "22d1df06-5ee2-4f1b-94b3-4a0070c5d8d0",
   "metadata": {},
   "outputs": [
    {
     "data": {
      "text/plain": [
       "InvoiceNo      False\n",
       "StockCode      False\n",
       "Description    False\n",
       "Quantity       False\n",
       "InvoiceDate    False\n",
       "UnitPrice      False\n",
       "CustomerID     False\n",
       "Country        False\n",
       "dtype: bool"
      ]
     },
     "execution_count": 10,
     "metadata": {},
     "output_type": "execute_result"
    }
   ],
   "source": [
    "pd.isnull(Online_Retail).any()"
   ]
  },
  {
   "cell_type": "code",
   "execution_count": 15,
   "id": "53988500-21ae-48ed-9842-84e0681335d6",
   "metadata": {},
   "outputs": [],
   "source": [
    "# Convert InvoiceDate to datetime\n",
    "Online_Retail.loc[:, 'InvoiceDate'] = pd.to_datetime(Online_Retail['InvoiceDate'])"
   ]
  },
  {
   "cell_type": "code",
   "execution_count": 16,
   "id": "3c95fa17-b136-44fe-b0ee-dcfe08ae1b9c",
   "metadata": {},
   "outputs": [],
   "source": [
    "# Convert CustomerID to int for consistency\n",
    "Online_Retail.loc[:, 'CustomerID'] = Online_Retail['CustomerID'].astype(int)"
   ]
  },
  {
   "cell_type": "code",
   "execution_count": 17,
   "id": "df2962cd-3936-4d32-96a6-3129f9b7a6f3",
   "metadata": {},
   "outputs": [
    {
     "name": "stdout",
     "output_type": "stream",
     "text": [
      "<class 'pandas.core.frame.DataFrame'>\n",
      "Index: 406829 entries, 0 to 541908\n",
      "Data columns (total 8 columns):\n",
      " #   Column       Non-Null Count   Dtype         \n",
      "---  ------       --------------   -----         \n",
      " 0   InvoiceNo    406829 non-null  object        \n",
      " 1   StockCode    406829 non-null  object        \n",
      " 2   Description  406829 non-null  object        \n",
      " 3   Quantity     406829 non-null  int64         \n",
      " 4   InvoiceDate  406829 non-null  datetime64[ns]\n",
      " 5   UnitPrice    406829 non-null  float64       \n",
      " 6   CustomerID   406829 non-null  int32         \n",
      " 7   Country      406829 non-null  object        \n",
      "dtypes: datetime64[ns](1), float64(1), int32(1), int64(1), object(4)\n",
      "memory usage: 26.4+ MB\n"
     ]
    }
   ],
   "source": [
    "Online_Retail.info()"
   ]
  },
  {
   "cell_type": "code",
   "execution_count": 18,
   "id": "d75013d8-2b4e-484b-a810-02b51642f756",
   "metadata": {},
   "outputs": [],
   "source": [
    "# Create a pivot table to analyze the data\n",
    "pivot_table = Online_Retail.pivot_table(index='StockCode', values='Quantity', aggfunc='sum')"
   ]
  },
  {
   "cell_type": "code",
   "execution_count": 21,
   "id": "d1e052bb-3727-4826-9bb9-4eac1b133a7f",
   "metadata": {},
   "outputs": [],
   "source": [
    "# Reset the index to create a DataFrame with separate columns\n",
    "pivot_df = pivot_table.reset_index()"
   ]
  },
  {
   "cell_type": "code",
   "execution_count": 22,
   "id": "8d61b937-c452-4b7b-9086-aa42f44cc2a6",
   "metadata": {},
   "outputs": [
    {
     "data": {
      "image/png": "[encoded data removed]",
      "text/plain": [
       "<Figure size 1000x600 with 1 Axes>"
      ]
     },
     "metadata": {},
     "output_type": "display_data"
    }
   ],
   "source": [
    "# Visualize the top 10 most popular items\n",
    "plt.figure(figsize=(10, 6))\n",
    "sns.barplot(x='StockCode', y='Quantity', data=pivot_df.head(10))\n",
    "plt.title('Top 10 Most Popular Items')\n",
    "plt.xlabel('Stock Code')\n",
    "plt.ylabel('Quantity Sold')\n",
    "plt.show()"
   ]
  },
  {
   "cell_type": "code",
   "execution_count": 29,
   "id": "3a35f291-9113-4ade-b73d-0f48075e185b",
   "metadata": {},
   "outputs": [
    {
     "name": "stdout",
     "output_type": "stream",
     "text": [
      "Global Popular Items:\n",
      "           Quantity\n",
      "StockCode          \n",
      "84077         53215\n",
      "22197         48712\n",
      "85099B        45066\n",
      "84879         35314\n",
      "85123A        34204\n",
      "21212         33409\n",
      "23084         27094\n",
      "22492         25880\n",
      "22616         25321\n",
      "21977         24163\n"
     ]
    }
   ],
   "source": [
    "# Find popular items globally\n",
    "global_popular_items = pivot_table.sort_values(by='Quantity', ascending=False).head(10)\n",
    "print('Global Popular Items:')\n",
    "print(global_popular_items)"
   ]
  },
  {
   "cell_type": "code",
   "execution_count": 35,
   "id": "7143c755-5ff0-4650-8f42-bc7ed0aedd97",
   "metadata": {},
   "outputs": [
    {
     "name": "stdout",
     "output_type": "stream",
     "text": [
      "Country-wise Popular Items:\n",
      "Country    StockCode\n",
      "Australia  22720        10\n",
      "           20725         9\n",
      "           21731         9\n",
      "           22090         8\n",
      "           22138         8\n",
      "           22382         8\n",
      "           22617         8\n",
      "           22699         8\n",
      "           47566         8\n",
      "           84978         8\n",
      "Name: count, dtype: int64\n"
     ]
    }
   ],
   "source": [
    "# Find popular items country-wise\n",
    "country_popular_items = Online_Retail.groupby('Country')['StockCode'].value_counts().head(10)\n",
    "print('Country-wise Popular Items:')\n",
    "print(country_popular_items)"
   ]
  },
  {
   "cell_type": "code",
   "execution_count": 38,
   "id": "830c42ec-9415-48ce-a68f-8a554c8da432",
   "metadata": {},
   "outputs": [
    {
     "name": "stdout",
     "output_type": "stream",
     "text": [
      "Month-wise Popular Items:\n",
      "InvoiceMonth  StockCode\n",
      "1             85123A       167\n",
      "              22720        137\n",
      "              22423        132\n",
      "              22469        121\n",
      "              22457         98\n",
      "              84378         97\n",
      "              21733         92\n",
      "              22960         91\n",
      "              22722         87\n",
      "              22470         86\n",
      "Name: count, dtype: int64\n"
     ]
    },
    {
     "name": "stderr",
     "output_type": "stream",
     "text": [
      "C:\\Users\\aryan\\AppData\\Local\\Temp\\ipykernel_12568\\3645725916.py:2: SettingWithCopyWarning: \n",
      "A value is trying to be set on a copy of a slice from a DataFrame.\n",
      "Try using .loc[row_indexer,col_indexer] = value instead\n",
      "\n",
      "See the caveats in the documentation: https://pandas.pydata.org/pandas-docs/stable/user_guide/indexing.html#returning-a-view-versus-a-copy\n",
      "  Online_Retail['InvoiceMonth'] = Online_Retail['InvoiceDate'].dt.month\n"
     ]
    }
   ],
   "source": [
    "# Find popular items month-wise\n",
    "Online_Retail['InvoiceMonth'] = Online_Retail['InvoiceDate'].dt.month\n",
    "month_popular_items = Online_Retail.groupby('InvoiceMonth')['StockCode'].value_counts().head(10)\n",
    "print('Month-wise Popular Items:')\n",
    "print(month_popular_items)"
   ]
  },
  {
   "cell_type": "code",
   "execution_count": 45,
   "id": "7dcb4912-a5c5-4aef-bb17-b3eacb116bce",
   "metadata": {},
   "outputs": [],
   "source": [
    "# Function to analyze and print recommendations\n",
    "def recommend_items(customer_id, num_recommendations=5):\n",
    "    # Get the customer's purchase history\n",
    "    customer_purchases = Online_Retail[Online_Retail['CustomerID'] == customer_id]\n",
    "    \n",
    "    # Get the popular items that the customer hasn't purchased yet\n",
    "    recommended_items = pivot_df[~pivot_df['StockCode'].isin(customer_purchases['StockCode'])].sort_values('Quantity', ascending=False).head(num_recommendations)\n",
    "    \n",
    "    print(f'Recommended items for customer {customer_id}:')\n",
    "    print(recommended_items)"
   ]
  },
  {
   "cell_type": "code",
   "execution_count": 46,
   "id": "7b786049-2de0-4f3c-91fe-0ea32923cc54",
   "metadata": {},
   "outputs": [
    {
     "name": "stdout",
     "output_type": "stream",
     "text": [
      "Recommended items for customer 17850:\n",
      "     StockCode  Quantity\n",
      "2812     84077     53215\n",
      "1092     22197     48712\n",
      "3235    85099B     45066\n",
      "3069     84879     35314\n",
      "425      21212     33409\n"
     ]
    }
   ],
   "source": [
    "# Test the recommendation function\n",
    "recommend_items(17850)"
   ]
  },
  {
   "cell_type": "code",
   "execution_count": null,
   "id": "11725fd6-c5f8-45ee-99df-6d3b5ce919cc",
   "metadata": {},
   "outputs": [],
   "source": []
  }
 ],
 "metadata": {
  "kernelspec": {
   "display_name": "Python 3 (ipykernel)",
   "language": "python",
   "name": "python3"
  },
  "language_info": {
   "codemirror_mode": {
    "name": "ipython",
    "version": 3
   },
   "file_extension": ".py",
   "mimetype": "text/x-python",
   "name": "python",
   "nbconvert_exporter": "python",
   "pygments_lexer": "ipython3",
   "version": "3.11.7"
  }
 },
 "nbformat": 4,
 "nbformat_minor": 5
}
